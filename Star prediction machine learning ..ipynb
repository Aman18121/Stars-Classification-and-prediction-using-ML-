{
 "cells": [
  {
   "cell_type": "markdown",
   "id": "41ec12a4-121d-42e5-9675-9620bbddce00",
   "metadata": {},
   "source": [
    "Hi, my name is **Aman Yadav**. I am currently pursuing my **Master’s in Life Science Informatics**. Before joining university, stars and space have always fascinated me, sparking my curiosity about the universe.\n",
    "I have a deep interest in **astrophotography** and the study of **star alignments and classifications**. This project is my independent endeavor to explore something related to my hobby while integrating my knowledge of **data visualization, manipulation, and machine learning**.\n",
    "The dataset for this project has been sourced from Kaggle (**https://www.kaggle.com/code/ybifoundation/stars-classification**). Through this work, I aim to blend my passion for astronomy with my expertise in computer science, creating meaningful insights into the classification of stars.\n"
   ]
  },
  {
   "cell_type": "markdown",
   "id": "8b6f2f0a-f84a-46ca-8630-331d9772fd0b",
   "metadata": {},
   "source": [
    "This project is based on a dataset containing 240 entries of stars along with their various features. Our goal is to predict the type of star, represented by the **\"Spectral Class\"** column, using different features and multiple machine learning models.\n",
    "\n",
    "We will analyze the accuracy of these models before and after applying **Bagging** to observe performance differences. This study will help us understand how Bagging improves classification accuracy and explore further enhancements that can be made."
   ]
  },
  {
   "cell_type": "code",
   "execution_count": 1,
   "id": "a56a5d65-9a6b-42c5-8f7a-a814f84cceda",
   "metadata": {},
   "outputs": [],
   "source": [
    "import pandas as pd\n",
    "import matplotlib.pyplot as plt\n",
    "import numpy as np\n",
    "from sklearn.linear_model import LogisticRegression, LinearRegression\n",
    "from sklearn.tree import DecisionTreeClassifier, DecisionTreeRegressor\n",
    "from sklearn.ensemble import RandomForestClassifier, RandomForestRegressor, GradientBoostingClassifier, GradientBoostingRegressor\n",
    "from sklearn.neighbors import KNeighborsClassifier, KNeighborsRegressor\n",
    "from sklearn.cluster import KMeans, DBSCAN\n",
    "from sklearn.metrics import accuracy_score "
   ]
  },
  {
   "cell_type": "code",
   "execution_count": 2,
   "id": "b8cb135f-5c29-4263-b5f6-2d3f98e9acf5",
   "metadata": {},
   "outputs": [
    {
     "data": {
      "text/html": [
       "<div>\n",
       "<style scoped>\n",
       "    .dataframe tbody tr th:only-of-type {\n",
       "        vertical-align: middle;\n",
       "    }\n",
       "\n",
       "    .dataframe tbody tr th {\n",
       "        vertical-align: top;\n",
       "    }\n",
       "\n",
       "    .dataframe thead th {\n",
       "        text-align: right;\n",
       "    }\n",
       "</style>\n",
       "<table border=\"1\" class=\"dataframe\">\n",
       "  <thead>\n",
       "    <tr style=\"text-align: right;\">\n",
       "      <th></th>\n",
       "      <th>Temperature (K)</th>\n",
       "      <th>Luminosity(L/Lo)</th>\n",
       "      <th>Radius(R/Ro)</th>\n",
       "      <th>Absolute magnitude(Mv)</th>\n",
       "      <th>Star type</th>\n",
       "      <th>Star color</th>\n",
       "      <th>Spectral Class</th>\n",
       "    </tr>\n",
       "  </thead>\n",
       "  <tbody>\n",
       "    <tr>\n",
       "      <th>0</th>\n",
       "      <td>3068</td>\n",
       "      <td>0.002400</td>\n",
       "      <td>0.1700</td>\n",
       "      <td>16.12</td>\n",
       "      <td>0</td>\n",
       "      <td>Red</td>\n",
       "      <td>M</td>\n",
       "    </tr>\n",
       "    <tr>\n",
       "      <th>1</th>\n",
       "      <td>3042</td>\n",
       "      <td>0.000500</td>\n",
       "      <td>0.1542</td>\n",
       "      <td>16.60</td>\n",
       "      <td>0</td>\n",
       "      <td>Red</td>\n",
       "      <td>M</td>\n",
       "    </tr>\n",
       "    <tr>\n",
       "      <th>2</th>\n",
       "      <td>2600</td>\n",
       "      <td>0.000300</td>\n",
       "      <td>0.1020</td>\n",
       "      <td>18.70</td>\n",
       "      <td>0</td>\n",
       "      <td>Red</td>\n",
       "      <td>M</td>\n",
       "    </tr>\n",
       "    <tr>\n",
       "      <th>3</th>\n",
       "      <td>2800</td>\n",
       "      <td>0.000200</td>\n",
       "      <td>0.1600</td>\n",
       "      <td>16.65</td>\n",
       "      <td>0</td>\n",
       "      <td>Red</td>\n",
       "      <td>M</td>\n",
       "    </tr>\n",
       "    <tr>\n",
       "      <th>4</th>\n",
       "      <td>1939</td>\n",
       "      <td>0.000138</td>\n",
       "      <td>0.1030</td>\n",
       "      <td>20.06</td>\n",
       "      <td>0</td>\n",
       "      <td>Red</td>\n",
       "      <td>M</td>\n",
       "    </tr>\n",
       "    <tr>\n",
       "      <th>...</th>\n",
       "      <td>...</td>\n",
       "      <td>...</td>\n",
       "      <td>...</td>\n",
       "      <td>...</td>\n",
       "      <td>...</td>\n",
       "      <td>...</td>\n",
       "      <td>...</td>\n",
       "    </tr>\n",
       "    <tr>\n",
       "      <th>235</th>\n",
       "      <td>38940</td>\n",
       "      <td>374830.000000</td>\n",
       "      <td>1356.0000</td>\n",
       "      <td>-9.93</td>\n",
       "      <td>5</td>\n",
       "      <td>Blue</td>\n",
       "      <td>O</td>\n",
       "    </tr>\n",
       "    <tr>\n",
       "      <th>236</th>\n",
       "      <td>30839</td>\n",
       "      <td>834042.000000</td>\n",
       "      <td>1194.0000</td>\n",
       "      <td>-10.63</td>\n",
       "      <td>5</td>\n",
       "      <td>Blue</td>\n",
       "      <td>O</td>\n",
       "    </tr>\n",
       "    <tr>\n",
       "      <th>237</th>\n",
       "      <td>8829</td>\n",
       "      <td>537493.000000</td>\n",
       "      <td>1423.0000</td>\n",
       "      <td>-10.73</td>\n",
       "      <td>5</td>\n",
       "      <td>White</td>\n",
       "      <td>A</td>\n",
       "    </tr>\n",
       "    <tr>\n",
       "      <th>238</th>\n",
       "      <td>9235</td>\n",
       "      <td>404940.000000</td>\n",
       "      <td>1112.0000</td>\n",
       "      <td>-11.23</td>\n",
       "      <td>5</td>\n",
       "      <td>White</td>\n",
       "      <td>A</td>\n",
       "    </tr>\n",
       "    <tr>\n",
       "      <th>239</th>\n",
       "      <td>37882</td>\n",
       "      <td>294903.000000</td>\n",
       "      <td>1783.0000</td>\n",
       "      <td>-7.80</td>\n",
       "      <td>5</td>\n",
       "      <td>Blue</td>\n",
       "      <td>O</td>\n",
       "    </tr>\n",
       "  </tbody>\n",
       "</table>\n",
       "<p>240 rows × 7 columns</p>\n",
       "</div>"
      ],
      "text/plain": [
       "     Temperature (K)  Luminosity(L/Lo)  Radius(R/Ro)  Absolute magnitude(Mv)  \\\n",
       "0               3068          0.002400        0.1700                   16.12   \n",
       "1               3042          0.000500        0.1542                   16.60   \n",
       "2               2600          0.000300        0.1020                   18.70   \n",
       "3               2800          0.000200        0.1600                   16.65   \n",
       "4               1939          0.000138        0.1030                   20.06   \n",
       "..               ...               ...           ...                     ...   \n",
       "235            38940     374830.000000     1356.0000                   -9.93   \n",
       "236            30839     834042.000000     1194.0000                  -10.63   \n",
       "237             8829     537493.000000     1423.0000                  -10.73   \n",
       "238             9235     404940.000000     1112.0000                  -11.23   \n",
       "239            37882     294903.000000     1783.0000                   -7.80   \n",
       "\n",
       "     Star type Star color Spectral Class  \n",
       "0            0        Red              M  \n",
       "1            0        Red              M  \n",
       "2            0        Red              M  \n",
       "3            0        Red              M  \n",
       "4            0        Red              M  \n",
       "..         ...        ...            ...  \n",
       "235          5       Blue              O  \n",
       "236          5       Blue              O  \n",
       "237          5      White              A  \n",
       "238          5      White              A  \n",
       "239          5       Blue              O  \n",
       "\n",
       "[240 rows x 7 columns]"
      ]
     },
     "execution_count": 2,
     "metadata": {},
     "output_type": "execute_result"
    }
   ],
   "source": [
    "df = pd.read_csv(\"Stars_Cat.csv\")\n",
    "df"
   ]
  },
  {
   "cell_type": "markdown",
   "id": "c42d5d7a-60c5-415d-b75f-7e7e0c1f87d9",
   "metadata": {},
   "source": [
    "# Data Analysis and Visualization\n"
   ]
  },
  {
   "cell_type": "markdown",
   "id": "5331df7b-743e-4943-a90c-5d1a7e8cbe07",
   "metadata": {},
   "source": [
    "**Before proceeding with the training set, I analyzed the features of the stars and their distribution in the dataset.**\n",
    "As you can see in the following code that mosy of the Stars are either **red** or **Pure Blue**."
   ]
  },
  {
   "cell_type": "code",
   "execution_count": 3,
   "id": "2f4e8f74-3a65-4c0e-b134-efbfa50b1cfe",
   "metadata": {},
   "outputs": [
    {
     "data": {
      "text/plain": [
       "Star color\n",
       "Red                   112\n",
       "Blue                   55\n",
       "Blue-white             26\n",
       "Blue White             10\n",
       "yellow-white            8\n",
       "White                   7\n",
       "Blue white              3\n",
       "Yellowish White         3\n",
       "white                   3\n",
       "Whitish                 2\n",
       "Orange                  2\n",
       "yellowish               2\n",
       "Pale yellow orange      1\n",
       "White-Yellow            1\n",
       "Blue                    1\n",
       "Yellowish               1\n",
       "Orange-Red              1\n",
       "Blue white              1\n",
       "Blue-White              1\n",
       "Name: count, dtype: int64"
      ]
     },
     "execution_count": 3,
     "metadata": {},
     "output_type": "execute_result"
    }
   ],
   "source": [
    "numbers = df[\"Star color\" ].value_counts()\n",
    "numbers"
   ]
  },
  {
   "cell_type": "markdown",
   "id": "d8be903a-7047-447e-9cfa-51278c1dbb17",
   "metadata": {},
   "source": [
    "**Here are the names of each Stars and some examples**"
   ]
  },
  {
   "cell_type": "code",
   "execution_count": 4,
   "id": "60b7bfd0-14a8-40af-97d3-8d3084e50ee9",
   "metadata": {},
   "outputs": [
    {
     "data": {
      "text/html": [
       "<div>\n",
       "<style scoped>\n",
       "    .dataframe tbody tr th:only-of-type {\n",
       "        vertical-align: middle;\n",
       "    }\n",
       "\n",
       "    .dataframe tbody tr th {\n",
       "        vertical-align: top;\n",
       "    }\n",
       "\n",
       "    .dataframe thead th {\n",
       "        text-align: right;\n",
       "    }\n",
       "</style>\n",
       "<table border=\"1\" class=\"dataframe\">\n",
       "  <thead>\n",
       "    <tr style=\"text-align: right;\">\n",
       "      <th></th>\n",
       "      <th>Spectral Class</th>\n",
       "      <th>Characteristics</th>\n",
       "      <th>Example Stars</th>\n",
       "    </tr>\n",
       "  </thead>\n",
       "  <tbody>\n",
       "    <tr>\n",
       "      <th>0</th>\n",
       "      <td>O</td>\n",
       "      <td>Very hot, blue stars</td>\n",
       "      <td>Zeta Puppis, Mintaka</td>\n",
       "    </tr>\n",
       "    <tr>\n",
       "      <th>1</th>\n",
       "      <td>B</td>\n",
       "      <td>Blue-white, extremely luminous</td>\n",
       "      <td>Rigel, Spica</td>\n",
       "    </tr>\n",
       "    <tr>\n",
       "      <th>2</th>\n",
       "      <td>A</td>\n",
       "      <td>White stars, strong hydrogen lines</td>\n",
       "      <td>Sirius, Vega</td>\n",
       "    </tr>\n",
       "    <tr>\n",
       "      <th>3</th>\n",
       "      <td>F</td>\n",
       "      <td>Yellow-white stars, moderate hydrogen lines</td>\n",
       "      <td>Procyon, Canopus</td>\n",
       "    </tr>\n",
       "    <tr>\n",
       "      <th>4</th>\n",
       "      <td>G</td>\n",
       "      <td>Yellow stars (like the Sun), moderate metal lines</td>\n",
       "      <td>Sun, Alpha Centauri A</td>\n",
       "    </tr>\n",
       "    <tr>\n",
       "      <th>5</th>\n",
       "      <td>K</td>\n",
       "      <td>Orange stars, cooler than the Sun</td>\n",
       "      <td>Arcturus, Aldebaran</td>\n",
       "    </tr>\n",
       "    <tr>\n",
       "      <th>6</th>\n",
       "      <td>M</td>\n",
       "      <td>Red stars, coolest among main sequence</td>\n",
       "      <td>Betelgeuse, Proxima Centauri</td>\n",
       "    </tr>\n",
       "  </tbody>\n",
       "</table>\n",
       "</div>"
      ],
      "text/plain": [
       "  Spectral Class                                    Characteristics  \\\n",
       "0              O                               Very hot, blue stars   \n",
       "1              B                     Blue-white, extremely luminous   \n",
       "2              A                 White stars, strong hydrogen lines   \n",
       "3              F        Yellow-white stars, moderate hydrogen lines   \n",
       "4              G  Yellow stars (like the Sun), moderate metal lines   \n",
       "5              K                  Orange stars, cooler than the Sun   \n",
       "6              M             Red stars, coolest among main sequence   \n",
       "\n",
       "                  Example Stars  \n",
       "0          Zeta Puppis, Mintaka  \n",
       "1                  Rigel, Spica  \n",
       "2                  Sirius, Vega  \n",
       "3              Procyon, Canopus  \n",
       "4         Sun, Alpha Centauri A  \n",
       "5           Arcturus, Aldebaran  \n",
       "6  Betelgeuse, Proxima Centauri  "
      ]
     },
     "execution_count": 4,
     "metadata": {},
     "output_type": "execute_result"
    }
   ],
   "source": [
    "\n",
    "Types = {\n",
    "    \"Spectral Class\": [\"O\", \"B\", \"A\", \"F\", \"G\", \"K\", \"M\"],\n",
    "    \"Characteristics\": [\n",
    "        \"Very hot, blue stars\",\n",
    "        \"Blue-white, extremely luminous\",\n",
    "        \"White stars, strong hydrogen lines\",\n",
    "        \"Yellow-white stars, moderate hydrogen lines\",\n",
    "        \"Yellow stars (like the Sun), moderate metal lines\",\n",
    "        \"Orange stars, cooler than the Sun\",\n",
    "        \"Red stars, coolest among main sequence\"\n",
    "    ],\n",
    "    \"Example Stars\": [\n",
    "        \"Zeta Puppis, Mintaka\",\n",
    "        \"Rigel, Spica\",\n",
    "        \"Sirius, Vega\",\n",
    "        \"Procyon, Canopus\",\n",
    "        \"Sun, Alpha Centauri A\",\n",
    "        \"Arcturus, Aldebaran\",\n",
    "        \"Betelgeuse, Proxima Centauri\"\n",
    "    ]\n",
    "}\n",
    "\n",
    "df_spectral_classes = pd.DataFrame(Types)\n",
    "\n",
    "df_spectral_classes\n"
   ]
  },
  {
   "cell_type": "markdown",
   "id": "07ba3438-088a-4de1-846a-df566476c8ee",
   "metadata": {},
   "source": [
    "The most common star in the dataset is M Class which is **Red stars, coolest among main sequence**\t"
   ]
  },
  {
   "cell_type": "code",
   "execution_count": 5,
   "id": "b2ae13e9-6676-402a-b7bd-7eeba1bda0d3",
   "metadata": {},
   "outputs": [
    {
     "data": {
      "text/plain": [
       "Spectral Class\n",
       "M    111\n",
       "B     46\n",
       "O     40\n",
       "A     19\n",
       "F     17\n",
       "K      6\n",
       "G      1\n",
       "Name: count, dtype: int64"
      ]
     },
     "execution_count": 5,
     "metadata": {},
     "output_type": "execute_result"
    }
   ],
   "source": [
    "class_counts = df[\"Spectral Class\"].value_counts()\n",
    "class_counts"
   ]
  },
  {
   "cell_type": "code",
   "execution_count": 6,
   "id": "7b157cd0-ba12-4eeb-a290-6282cbb9bd49",
   "metadata": {},
   "outputs": [
    {
     "name": "stderr",
     "output_type": "stream",
     "text": [
      "No artists with labels found to put in legend.  Note that artists whose label start with an underscore are ignored when legend() is called with no argument.\n"
     ]
    },
    {
     "data": {
      "text/plain": [
       "<matplotlib.legend.Legend at 0x16eb0315c10>"
      ]
     },
     "execution_count": 6,
     "metadata": {},
     "output_type": "execute_result"
    },
    {
     "data": {
      "image/png": "[encoded data removed]",
      "text/plain": [
       "<Figure size 640x480 with 1 Axes>"
      ]
     },
     "metadata": {},
     "output_type": "display_data"
    }
   ],
   "source": [
    "plt.bar(class_counts.index, class_counts.values, color = \"red\")\n",
    "plt.plot(class_counts.index, class_counts.values, color = \"blue\")\n",
    "plt.grid()\n",
    "plt.xlabel(\"Stars Category\")\n",
    "plt.ylabel(\"counts\")\n",
    "plt.legend()"
   ]
  },
  {
   "cell_type": "code",
   "execution_count": 7,
   "id": "b391710f-8dc2-4298-9c8d-01779efcdf60",
   "metadata": {},
   "outputs": [
    {
     "data": {
      "text/plain": [
       "<bound method NDFrame.describe of      Temperature (K)  Luminosity(L/Lo)  Radius(R/Ro)  Absolute magnitude(Mv)  \\\n",
       "0               3068          0.002400        0.1700                   16.12   \n",
       "1               3042          0.000500        0.1542                   16.60   \n",
       "2               2600          0.000300        0.1020                   18.70   \n",
       "3               2800          0.000200        0.1600                   16.65   \n",
       "4               1939          0.000138        0.1030                   20.06   \n",
       "..               ...               ...           ...                     ...   \n",
       "235            38940     374830.000000     1356.0000                   -9.93   \n",
       "236            30839     834042.000000     1194.0000                  -10.63   \n",
       "237             8829     537493.000000     1423.0000                  -10.73   \n",
       "238             9235     404940.000000     1112.0000                  -11.23   \n",
       "239            37882     294903.000000     1783.0000                   -7.80   \n",
       "\n",
       "     Star type Star color Spectral Class  \n",
       "0            0        Red              M  \n",
       "1            0        Red              M  \n",
       "2            0        Red              M  \n",
       "3            0        Red              M  \n",
       "4            0        Red              M  \n",
       "..         ...        ...            ...  \n",
       "235          5       Blue              O  \n",
       "236          5       Blue              O  \n",
       "237          5      White              A  \n",
       "238          5      White              A  \n",
       "239          5       Blue              O  \n",
       "\n",
       "[240 rows x 7 columns]>"
      ]
     },
     "execution_count": 7,
     "metadata": {},
     "output_type": "execute_result"
    }
   ],
   "source": [
    "df.describe"
   ]
  },
  {
   "cell_type": "code",
   "execution_count": 8,
   "id": "f4f07b3d-2484-41ed-a769-398dadbcb9a2",
   "metadata": {},
   "outputs": [],
   "source": [
    "df[\"color\"] = df[\"Star color\"].map({\n",
    "    \"Red\": \"red\",\n",
    "    \"Blue\": \"blue\",\n",
    "    \"White\": \"white\",\n",
    "    \"Yellow\": \"yellow\",\n",
    "    \"Orange\": \"orange\",\n",
    "    \"Blue-white\": \"cyan\",\n",
    "    \"Yellow-white\": \"lightyellow\",\n",
    "    \"blue white\": \"cyan\",\n",
    "    \"yellowish white\": \"lightyellow\",\n",
    "    \"Whitish\": \"white\",\n",
    "    \"Orange-red\": \"orangered\",\n",
    "    \"Blue-White\": \"cyan\",\n",
    "    \"pale yellow orange\": \"orange\",\n",
    "    \"yellowish\": \"yellow\"\n",
    "})\n",
    "\n"
   ]
  },
  {
   "cell_type": "code",
   "execution_count": 9,
   "id": "d4ba4689-bab6-4780-b46f-7e2a0ee8cad8",
   "metadata": {},
   "outputs": [],
   "source": [
    "df['color'].fillna('gray', inplace=True)"
   ]
  },
  {
   "cell_type": "code",
   "execution_count": 10,
   "id": "d5236dd8-149a-4558-9791-117a11f3bb19",
   "metadata": {},
   "outputs": [
    {
     "data": {
      "image/png": "[encoded data removed]",
      "text/plain": [
       "<Figure size 1500x500 with 2 Axes>"
      ]
     },
     "metadata": {},
     "output_type": "display_data"
    }
   ],
   "source": [
    "fig ,axs = plt.subplots(nrows = 1, ncols= 2 , figsize = (15 , 5))\n",
    "axs[0].scatter(df[\"Temperature (K)\"],  df[\"Luminosity(L/Lo)\"],c = df[\"color\"])\n",
    "axs[0].set_xlabel(\"Tempreture\")\n",
    "axs[0].set_ylabel(\"Luminosity\")\n",
    "axs[0].set_title (\"Tempreture vs Luminosity\")\n",
    "axs[0].grid(True)\n",
    "\n",
    "\n",
    "axs[1].scatter(df[\"Temperature (K)\"],  df[\"Radius(R/Ro)\"],c = df[\"color\"])\n",
    "axs[1].set_xlabel(\"Tempreture\")\n",
    "axs[1].set_ylabel(\"Radius\")\n",
    "axs[1].set_title (\"Tempreture vs Radius\")\n",
    "axs[1].grid(True)"
   ]
  },
  {
   "cell_type": "markdown",
   "id": "1bb563c8-10fb-4037-a437-b5c1192d09af",
   "metadata": {},
   "source": [
    "The above graphs help us understand that most of the stars in the dataset are not very hot or luminous. There are only a few blue stars that are highly luminous, but by observing the graph, we cannot conclude that there is a direct relationship between luminosity and temperature. This is because many hot stars have low luminosity, while some cool red stars appear to be much more luminous. This suggests that factors beyond temperature influence a star’s brightness. **The same observation applies to the radius and temperature relationship, where we can see that radius does not directly influence a star’s temperature. Most of the larger stars tend to have lower temperatures, while many smaller stars have comparatively higher temperatures. This indicates that the relationship between radius and temperature is not linear, and other factors likely play a role in determining a star’s characteristics.**"
   ]
  },
  {
   "cell_type": "code",
   "execution_count": 11,
   "id": "b9a9efac-4b4c-468e-ab7d-fb2db2ad24a4",
   "metadata": {},
   "outputs": [
    {
     "name": "stdout",
     "output_type": "stream",
     "text": [
      "     Temperature (K)  Luminosity(L/Lo)  Radius(R/Ro)  Absolute magnitude(Mv)  \\\n",
      "0               3068          0.002400        0.1700                   16.12   \n",
      "1               3042          0.000500        0.1542                   16.60   \n",
      "2               2600          0.000300        0.1020                   18.70   \n",
      "3               2800          0.000200        0.1600                   16.65   \n",
      "4               1939          0.000138        0.1030                   20.06   \n",
      "..               ...               ...           ...                     ...   \n",
      "235            38940     374830.000000     1356.0000                   -9.93   \n",
      "236            30839     834042.000000     1194.0000                  -10.63   \n",
      "237             8829     537493.000000     1423.0000                  -10.73   \n",
      "238             9235     404940.000000     1112.0000                  -11.23   \n",
      "239            37882     294903.000000     1783.0000                   -7.80   \n",
      "\n",
      "     Star type Star color Spectral Class  color       mass  \n",
      "0            0        Red              M    red   0.178439  \n",
      "1            0        Red              M    red   0.113985  \n",
      "2            0        Red              M    red   0.098506  \n",
      "3            0        Red              M    red   0.087731  \n",
      "4            0        Red              M    red   0.078906  \n",
      "..         ...        ...            ...    ...        ...  \n",
      "235          5       Blue              O   blue  39.131284  \n",
      "236          5       Blue              O   blue  49.177673  \n",
      "237          5      White              A  white  43.375987  \n",
      "238          5      White              A  white  40.004756  \n",
      "239          5       Blue              O   blue  36.539743  \n",
      "\n",
      "[240 rows x 9 columns]\n"
     ]
    }
   ],
   "source": [
    "df['mass'] = df['Luminosity(L/Lo)'] ** (1 / 3.5)\n",
    "print(df)"
   ]
  },
  {
   "cell_type": "code",
   "execution_count": 12,
   "id": "329ba269-f9d5-4ffb-a72a-2d85746ef4cd",
   "metadata": {},
   "outputs": [
    {
     "data": {
      "image/png": "[encoded data removed]",
      "text/plain": [
       "<Figure size 640x480 with 1 Axes>"
      ]
     },
     "metadata": {},
     "output_type": "display_data"
    }
   ],
   "source": [
    "plt.scatter(df[\"mass\"] ,df['Luminosity(L/Lo)'] , c =df[\"color\"] )\n",
    "plt.grid(True)\n",
    "plt.xlabel(\"Mass\")\n",
    "plt.ylabel(\"Luminosity (L/Lo)\")\n",
    "plt.title =(\"Mass\")\n",
    "\n"
   ]
  },
  {
   "cell_type": "markdown",
   "id": "c44285e1-1da5-43df-bb33-69f8697743e0",
   "metadata": {},
   "source": [
    "**This scatter plot illustrates the relationship between Mass (x-axis) and Luminosity (L/Lo) (y-axis) of different stars.**\n",
    "The graph shows a non-linear exponential relationship between mass and luminosity. Stars with higher mass tend to have much higher luminosity, indicating that luminosity increases disproportionately as mass increases. In the low-mass region (mass < 20), the luminosity remains very low and nearly constant. These stars include red and yellow dwarfs, which are relatively cooler and dimmer. **Beyond a mass of 20 solar masses, the luminosity starts increasing rapidly. The blue stars, which are massive, show an exponential rise in luminosity as mass increases. The most massive stars (mass > 40) have an extremely high luminosity, reaching values over 800,000 times the Sun’s luminosity.**\n",
    "This trend aligns with the mass-luminosity relationship in astrophysics, which states that luminosity (L) is proportional to mass (M) raised to the power of ~3.5 (L ∝ M³.⁵).\n",
    "**This means small increases in mass lead to huge increases in luminosity, which is why massive stars burn fuel much faster and have shorter lifespans.**"
   ]
  },
  {
   "cell_type": "code",
   "execution_count": 13,
   "id": "0e59d886-4012-4588-b78c-9c03e6a3df22",
   "metadata": {},
   "outputs": [
    {
     "data": {
      "text/html": [
       "<div>\n",
       "<style scoped>\n",
       "    .dataframe tbody tr th:only-of-type {\n",
       "        vertical-align: middle;\n",
       "    }\n",
       "\n",
       "    .dataframe tbody tr th {\n",
       "        vertical-align: top;\n",
       "    }\n",
       "\n",
       "    .dataframe thead th {\n",
       "        text-align: right;\n",
       "    }\n",
       "</style>\n",
       "<table border=\"1\" class=\"dataframe\">\n",
       "  <thead>\n",
       "    <tr style=\"text-align: right;\">\n",
       "      <th></th>\n",
       "      <th>Temperature (K)</th>\n",
       "      <th>Luminosity(L/Lo)</th>\n",
       "      <th>Radius(R/Ro)</th>\n",
       "      <th>Absolute magnitude(Mv)</th>\n",
       "      <th>Star type</th>\n",
       "      <th>Star color</th>\n",
       "      <th>Spectral Class</th>\n",
       "      <th>color</th>\n",
       "      <th>mass</th>\n",
       "    </tr>\n",
       "  </thead>\n",
       "  <tbody>\n",
       "    <tr>\n",
       "      <th>0</th>\n",
       "      <td>-0.779382</td>\n",
       "      <td>-0.598624</td>\n",
       "      <td>-0.459210</td>\n",
       "      <td>1.116745</td>\n",
       "      <td>-1.46385</td>\n",
       "      <td>Red</td>\n",
       "      <td>M</td>\n",
       "      <td>red</td>\n",
       "      <td>-0.797429</td>\n",
       "    </tr>\n",
       "    <tr>\n",
       "      <th>1</th>\n",
       "      <td>-0.782110</td>\n",
       "      <td>-0.598624</td>\n",
       "      <td>-0.459241</td>\n",
       "      <td>1.162414</td>\n",
       "      <td>-1.46385</td>\n",
       "      <td>Red</td>\n",
       "      <td>M</td>\n",
       "      <td>red</td>\n",
       "      <td>-0.801240</td>\n",
       "    </tr>\n",
       "    <tr>\n",
       "      <th>2</th>\n",
       "      <td>-0.828477</td>\n",
       "      <td>-0.598624</td>\n",
       "      <td>-0.459342</td>\n",
       "      <td>1.362213</td>\n",
       "      <td>-1.46385</td>\n",
       "      <td>Red</td>\n",
       "      <td>M</td>\n",
       "      <td>red</td>\n",
       "      <td>-0.802155</td>\n",
       "    </tr>\n",
       "    <tr>\n",
       "      <th>3</th>\n",
       "      <td>-0.807496</td>\n",
       "      <td>-0.598624</td>\n",
       "      <td>-0.459229</td>\n",
       "      <td>1.167171</td>\n",
       "      <td>-1.46385</td>\n",
       "      <td>Red</td>\n",
       "      <td>M</td>\n",
       "      <td>red</td>\n",
       "      <td>-0.802792</td>\n",
       "    </tr>\n",
       "    <tr>\n",
       "      <th>4</th>\n",
       "      <td>-0.897819</td>\n",
       "      <td>-0.598624</td>\n",
       "      <td>-0.459340</td>\n",
       "      <td>1.491607</td>\n",
       "      <td>-1.46385</td>\n",
       "      <td>Red</td>\n",
       "      <td>M</td>\n",
       "      <td>red</td>\n",
       "      <td>-0.803314</td>\n",
       "    </tr>\n",
       "    <tr>\n",
       "      <th>...</th>\n",
       "      <td>...</td>\n",
       "      <td>...</td>\n",
       "      <td>...</td>\n",
       "      <td>...</td>\n",
       "      <td>...</td>\n",
       "      <td>...</td>\n",
       "      <td>...</td>\n",
       "      <td>...</td>\n",
       "      <td>...</td>\n",
       "    </tr>\n",
       "    <tr>\n",
       "      <th>235</th>\n",
       "      <td>2.983743</td>\n",
       "      <td>1.494720</td>\n",
       "      <td>2.167974</td>\n",
       "      <td>-1.361718</td>\n",
       "      <td>1.46385</td>\n",
       "      <td>Blue</td>\n",
       "      <td>O</td>\n",
       "      <td>blue</td>\n",
       "      <td>1.505927</td>\n",
       "    </tr>\n",
       "    <tr>\n",
       "      <th>236</th>\n",
       "      <td>2.133913</td>\n",
       "      <td>4.059319</td>\n",
       "      <td>1.854068</td>\n",
       "      <td>-1.428317</td>\n",
       "      <td>1.46385</td>\n",
       "      <td>Blue</td>\n",
       "      <td>O</td>\n",
       "      <td>blue</td>\n",
       "      <td>2.099989</td>\n",
       "    </tr>\n",
       "    <tr>\n",
       "      <th>237</th>\n",
       "      <td>-0.175029</td>\n",
       "      <td>2.403157</td>\n",
       "      <td>2.297800</td>\n",
       "      <td>-1.437832</td>\n",
       "      <td>1.46385</td>\n",
       "      <td>White</td>\n",
       "      <td>A</td>\n",
       "      <td>white</td>\n",
       "      <td>1.756924</td>\n",
       "    </tr>\n",
       "    <tr>\n",
       "      <th>238</th>\n",
       "      <td>-0.132438</td>\n",
       "      <td>1.662878</td>\n",
       "      <td>1.695177</td>\n",
       "      <td>-1.485403</td>\n",
       "      <td>1.46385</td>\n",
       "      <td>White</td>\n",
       "      <td>A</td>\n",
       "      <td>white</td>\n",
       "      <td>1.557577</td>\n",
       "    </tr>\n",
       "    <tr>\n",
       "      <th>239</th>\n",
       "      <td>2.872754</td>\n",
       "      <td>1.048345</td>\n",
       "      <td>2.995370</td>\n",
       "      <td>-1.159064</td>\n",
       "      <td>1.46385</td>\n",
       "      <td>Blue</td>\n",
       "      <td>O</td>\n",
       "      <td>blue</td>\n",
       "      <td>1.352684</td>\n",
       "    </tr>\n",
       "  </tbody>\n",
       "</table>\n",
       "<p>240 rows × 9 columns</p>\n",
       "</div>"
      ],
      "text/plain": [
       "     Temperature (K)  Luminosity(L/Lo)  Radius(R/Ro)  Absolute magnitude(Mv)  \\\n",
       "0          -0.779382         -0.598624     -0.459210                1.116745   \n",
       "1          -0.782110         -0.598624     -0.459241                1.162414   \n",
       "2          -0.828477         -0.598624     -0.459342                1.362213   \n",
       "3          -0.807496         -0.598624     -0.459229                1.167171   \n",
       "4          -0.897819         -0.598624     -0.459340                1.491607   \n",
       "..               ...               ...           ...                     ...   \n",
       "235         2.983743          1.494720      2.167974               -1.361718   \n",
       "236         2.133913          4.059319      1.854068               -1.428317   \n",
       "237        -0.175029          2.403157      2.297800               -1.437832   \n",
       "238        -0.132438          1.662878      1.695177               -1.485403   \n",
       "239         2.872754          1.048345      2.995370               -1.159064   \n",
       "\n",
       "     Star type Star color Spectral Class  color      mass  \n",
       "0     -1.46385        Red              M    red -0.797429  \n",
       "1     -1.46385        Red              M    red -0.801240  \n",
       "2     -1.46385        Red              M    red -0.802155  \n",
       "3     -1.46385        Red              M    red -0.802792  \n",
       "4     -1.46385        Red              M    red -0.803314  \n",
       "..         ...        ...            ...    ...       ...  \n",
       "235    1.46385       Blue              O   blue  1.505927  \n",
       "236    1.46385       Blue              O   blue  2.099989  \n",
       "237    1.46385      White              A  white  1.756924  \n",
       "238    1.46385      White              A  white  1.557577  \n",
       "239    1.46385       Blue              O   blue  1.352684  \n",
       "\n",
       "[240 rows x 9 columns]"
      ]
     },
     "execution_count": 13,
     "metadata": {},
     "output_type": "execute_result"
    }
   ],
   "source": [
    "from sklearn.preprocessing import StandardScaler\n",
    "\n",
    "scaler = StandardScaler()\n",
    "numerical_columns = ['Temperature (K)', 'Luminosity(L/Lo)', 'Radius(R/Ro)', 'Absolute magnitude(Mv)','mass','Star type']\n",
    "\n",
    "df[numerical_columns] = scaler.fit_transform(df[numerical_columns])\n",
    "df"
   ]
  },
  {
   "cell_type": "markdown",
   "id": "479a2237-1020-4e79-8551-e348714243c7",
   "metadata": {},
   "source": [
    "**Standardization of data is essential so it can be used in classification models. Hence, standardization is a very important step and must be done before using the data to train a model.**"
   ]
  },
  {
   "cell_type": "markdown",
   "id": "b6811418-9e9b-403c-918a-531deb39021d",
   "metadata": {},
   "source": [
    "# Traing and Testing data Split "
   ]
  },
  {
   "cell_type": "code",
   "execution_count": 14,
   "id": "29dbd6dd-dc6a-4ba4-97a5-cc7109007991",
   "metadata": {},
   "outputs": [],
   "source": [
    "from sklearn.model_selection import train_test_split\n",
    "Y = df['Spectral Class']\n",
    "X = df.drop(['Spectral Class','color','Star color'], axis=1)\n",
    "\n",
    "X_train,X_test,Y_train,Y_test = train_test_split(X, Y, train_size = 0.8, random_state = 300)\n"
   ]
  },
  {
   "cell_type": "markdown",
   "id": "bbcc8571-7d8e-40ec-ab9d-f31e9123f7f8",
   "metadata": {},
   "source": [
    "# Knn Model with neighbours = 3"
   ]
  },
  {
   "cell_type": "code",
   "execution_count": 15,
   "id": "8407189e-12d4-4bf1-b7ec-402d041af509",
   "metadata": {
    "scrolled": true
   },
   "outputs": [],
   "source": [
    "from sklearn.neighbors import KNeighborsClassifier\n",
    "model = KNeighborsClassifier(n_neighbors=3)\n"
   ]
  },
  {
   "cell_type": "code",
   "execution_count": 16,
   "id": "59d436db-0b2c-4478-bd3b-943eb333d0fa",
   "metadata": {},
   "outputs": [
    {
     "data": {
      "text/html": [
       "<style>#sk-container-id-1 {color: black;background-color: white;}#sk-container-id-1 pre{padding: 0;}#sk-container-id-1 div.sk-toggleable {background-color: white;}#sk-container-id-1 label.sk-toggleable__label {cursor: pointer;display: block;width: 100%;margin-bottom: 0;padding: 0.3em;box-sizing: border-box;text-align: center;}#sk-container-id-1 label.sk-toggleable__label-arrow:before {content: \"▸\";float: left;margin-right: 0.25em;color: #696969;}#sk-container-id-1 label.sk-toggleable__label-arrow:hover:before {color: black;}#sk-container-id-1 div.sk-estimator:hover label.sk-toggleable__label-arrow:before {color: black;}#sk-container-id-1 div.sk-toggleable__content {max-height: 0;max-width: 0;overflow: hidden;text-align: left;background-color: #f0f8ff;}#sk-container-id-1 div.sk-toggleable__content pre {margin: 0.2em;color: black;border-radius: 0.25em;background-color: #f0f8ff;}#sk-container-id-1 input.sk-toggleable__control:checked~div.sk-toggleable__content {max-height: 200px;max-width: 100%;overflow: auto;}#sk-container-id-1 input.sk-toggleable__control:checked~label.sk-toggleable__label-arrow:before {content: \"▾\";}#sk-container-id-1 div.sk-estimator input.sk-toggleable__control:checked~label.sk-toggleable__label {background-color: #d4ebff;}#sk-container-id-1 div.sk-label input.sk-toggleable__control:checked~label.sk-toggleable__label {background-color: #d4ebff;}#sk-container-id-1 input.sk-hidden--visually {border: 0;clip: rect(1px 1px 1px 1px);clip: rect(1px, 1px, 1px, 1px);height: 1px;margin: -1px;overflow: hidden;padding: 0;position: absolute;width: 1px;}#sk-container-id-1 div.sk-estimator {font-family: monospace;background-color: #f0f8ff;border: 1px dotted black;border-radius: 0.25em;box-sizing: border-box;margin-bottom: 0.5em;}#sk-container-id-1 div.sk-estimator:hover {background-color: #d4ebff;}#sk-container-id-1 div.sk-parallel-item::after {content: \"\";width: 100%;border-bottom: 1px solid gray;flex-grow: 1;}#sk-container-id-1 div.sk-label:hover label.sk-toggleable__label {background-color: #d4ebff;}#sk-container-id-1 div.sk-serial::before {content: \"\";position: absolute;border-left: 1px solid gray;box-sizing: border-box;top: 0;bottom: 0;left: 50%;z-index: 0;}#sk-container-id-1 div.sk-serial {display: flex;flex-direction: column;align-items: center;background-color: white;padding-right: 0.2em;padding-left: 0.2em;position: relative;}#sk-container-id-1 div.sk-item {position: relative;z-index: 1;}#sk-container-id-1 div.sk-parallel {display: flex;align-items: stretch;justify-content: center;background-color: white;position: relative;}#sk-container-id-1 div.sk-item::before, #sk-container-id-1 div.sk-parallel-item::before {content: \"\";position: absolute;border-left: 1px solid gray;box-sizing: border-box;top: 0;bottom: 0;left: 50%;z-index: -1;}#sk-container-id-1 div.sk-parallel-item {display: flex;flex-direction: column;z-index: 1;position: relative;background-color: white;}#sk-container-id-1 div.sk-parallel-item:first-child::after {align-self: flex-end;width: 50%;}#sk-container-id-1 div.sk-parallel-item:last-child::after {align-self: flex-start;width: 50%;}#sk-container-id-1 div.sk-parallel-item:only-child::after {width: 0;}#sk-container-id-1 div.sk-dashed-wrapped {border: 1px dashed gray;margin: 0 0.4em 0.5em 0.4em;box-sizing: border-box;padding-bottom: 0.4em;background-color: white;}#sk-container-id-1 div.sk-label label {font-family: monospace;font-weight: bold;display: inline-block;line-height: 1.2em;}#sk-container-id-1 div.sk-label-container {text-align: center;}#sk-container-id-1 div.sk-container {/* jupyter's `normalize.less` sets `[hidden] { display: none; }` but bootstrap.min.css set `[hidden] { display: none !important; }` so we also need the `!important` here to be able to override the default hidden behavior on the sphinx rendered scikit-learn.org. See: https://github.com/scikit-learn/scikit-learn/issues/21755 */display: inline-block !important;position: relative;}#sk-container-id-1 div.sk-text-repr-fallback {display: none;}</style><div id=\"sk-container-id-1\" class=\"sk-top-container\"><div class=\"sk-text-repr-fallback\"><pre>KNeighborsClassifier(n_neighbors=3)</pre><b>In a Jupyter environment, please rerun this cell to show the HTML representation or trust the notebook. <br />On GitHub, the HTML representation is unable to render, please try loading this page with nbviewer.org.</b></div><div class=\"sk-container\" hidden><div class=\"sk-item\"><div class=\"sk-estimator sk-toggleable\"><input class=\"sk-toggleable__control sk-hidden--visually\" id=\"sk-estimator-id-1\" type=\"checkbox\" checked><label for=\"sk-estimator-id-1\" class=\"sk-toggleable__label sk-toggleable__label-arrow\">KNeighborsClassifier</label><div class=\"sk-toggleable__content\"><pre>KNeighborsClassifier(n_neighbors=3)</pre></div></div></div></div></div>"
      ],
      "text/plain": [
       "KNeighborsClassifier(n_neighbors=3)"
      ]
     },
     "execution_count": 16,
     "metadata": {},
     "output_type": "execute_result"
    }
   ],
   "source": [
    "model.fit(X_train,Y_train)"
   ]
  },
  {
   "cell_type": "code",
   "execution_count": 17,
   "id": "03ab2471-cd33-42e5-a4d0-4ed9f927f2b7",
   "metadata": {},
   "outputs": [
    {
     "name": "stdout",
     "output_type": "stream",
     "text": [
      "['M' 'B' 'B' 'F' 'B' 'M' 'M' 'M' 'B' 'A' 'F' 'M' 'B' 'M' 'M' 'M' 'M' 'B'\n",
      " 'M' 'M' 'O' 'A' 'M' 'M' 'M' 'M' 'M' 'B' 'M' 'M' 'M' 'M' 'M' 'M' 'M' 'B'\n",
      " 'M' 'M' 'M' 'O' 'B' 'O' 'A' 'M' 'M' 'F' 'M' 'O']\n"
     ]
    }
   ],
   "source": [
    "Y_pred = model.predict(X_test)\n",
    "\n",
    "print(Y_pred)\n"
   ]
  },
  {
   "cell_type": "code",
   "execution_count": 18,
   "id": "fdd50d84-36ab-479e-bf9f-770d2fcaaa87",
   "metadata": {},
   "outputs": [
    {
     "data": {
      "text/plain": [
       "array([[ 3,  0,  0,  0,  0,  0],\n",
       "       [ 0,  5,  0,  0,  0,  1],\n",
       "       [ 0,  1,  2,  0,  0,  0],\n",
       "       [ 0,  0,  1,  0,  0,  0],\n",
       "       [ 0,  0,  0,  0, 28,  0],\n",
       "       [ 0,  3,  0,  0,  1,  3]], dtype=int64)"
      ]
     },
     "execution_count": 18,
     "metadata": {},
     "output_type": "execute_result"
    }
   ],
   "source": [
    "from sklearn.metrics import confusion_matrix, classification_report\n",
    "confusion_matrix(Y_test,Y_pred)"
   ]
  },
  {
   "cell_type": "code",
   "execution_count": 19,
   "id": "0440b72f-c567-4cf4-84d9-d6b99835b286",
   "metadata": {},
   "outputs": [
    {
     "data": {
      "text/plain": [
       "0.8541666666666666"
      ]
     },
     "execution_count": 19,
     "metadata": {},
     "output_type": "execute_result"
    }
   ],
   "source": [
    "accuracy_knn = accuracy_score(Y_test,Y_pred)\n",
    "accuracy_knn"
   ]
  },
  {
   "cell_type": "code",
   "execution_count": 20,
   "id": "eeb2a9f5-d3f3-451e-9e43-7c230419731f",
   "metadata": {},
   "outputs": [
    {
     "name": "stdout",
     "output_type": "stream",
     "text": [
      "              precision    recall  f1-score   support\n",
      "\n",
      "           A       1.00      1.00      1.00         3\n",
      "           B       0.56      0.83      0.67         6\n",
      "           F       0.67      0.67      0.67         3\n",
      "           K       0.00      0.00      0.00         1\n",
      "           M       0.97      1.00      0.98        28\n",
      "           O       0.75      0.43      0.55         7\n",
      "\n",
      "    accuracy                           0.85        48\n",
      "   macro avg       0.66      0.65      0.64        48\n",
      "weighted avg       0.85      0.85      0.84        48\n",
      "\n"
     ]
    },
    {
     "name": "stderr",
     "output_type": "stream",
     "text": [
      "C:\\Users\\Aman Yadav\\anaconda3\\Lib\\site-packages\\sklearn\\metrics\\_classification.py:1344: UndefinedMetricWarning: Precision and F-score are ill-defined and being set to 0.0 in labels with no predicted samples. Use `zero_division` parameter to control this behavior.\n",
      "  _warn_prf(average, modifier, msg_start, len(result))\n",
      "C:\\Users\\Aman Yadav\\anaconda3\\Lib\\site-packages\\sklearn\\metrics\\_classification.py:1344: UndefinedMetricWarning: Precision and F-score are ill-defined and being set to 0.0 in labels with no predicted samples. Use `zero_division` parameter to control this behavior.\n",
      "  _warn_prf(average, modifier, msg_start, len(result))\n",
      "C:\\Users\\Aman Yadav\\anaconda3\\Lib\\site-packages\\sklearn\\metrics\\_classification.py:1344: UndefinedMetricWarning: Precision and F-score are ill-defined and being set to 0.0 in labels with no predicted samples. Use `zero_division` parameter to control this behavior.\n",
      "  _warn_prf(average, modifier, msg_start, len(result))\n"
     ]
    }
   ],
   "source": [
    "print(classification_report(Y_test,Y_pred))"
   ]
  },
  {
   "cell_type": "code",
   "execution_count": 21,
   "id": "f9e812b1-9f6b-4312-af4b-d09f28bad828",
   "metadata": {},
   "outputs": [
    {
     "name": "stdout",
     "output_type": "stream",
     "text": [
      "MCC Score: 0.7643413330373594\n"
     ]
    }
   ],
   "source": [
    "from sklearn.metrics import matthews_corrcoef\n",
    "mcc = matthews_corrcoef(Y_test, Y_pred)\n",
    "print(\"MCC Score:\", mcc)"
   ]
  },
  {
   "cell_type": "markdown",
   "id": "8b617cc8-db05-4b7b-a77b-4e4c72893f4d",
   "metadata": {},
   "source": [
    "**The model accuracy is 85%, which is not bad, and the MCC score is 0.76, indicating that the model is performing quite fairly.**"
   ]
  },
  {
   "cell_type": "markdown",
   "id": "9f8f1bee-f5c4-4fcf-8966-e73f3834eb2b",
   "metadata": {},
   "source": [
    "\n",
    "# Decision Tree Classifier"
   ]
  },
  {
   "cell_type": "code",
   "execution_count": 22,
   "id": "5d3dd92c-4b18-48b6-853b-41b44746a41d",
   "metadata": {},
   "outputs": [
    {
     "data": {
      "text/html": [
       "<style>#sk-container-id-2 {color: black;background-color: white;}#sk-container-id-2 pre{padding: 0;}#sk-container-id-2 div.sk-toggleable {background-color: white;}#sk-container-id-2 label.sk-toggleable__label {cursor: pointer;display: block;width: 100%;margin-bottom: 0;padding: 0.3em;box-sizing: border-box;text-align: center;}#sk-container-id-2 label.sk-toggleable__label-arrow:before {content: \"▸\";float: left;margin-right: 0.25em;color: #696969;}#sk-container-id-2 label.sk-toggleable__label-arrow:hover:before {color: black;}#sk-container-id-2 div.sk-estimator:hover label.sk-toggleable__label-arrow:before {color: black;}#sk-container-id-2 div.sk-toggleable__content {max-height: 0;max-width: 0;overflow: hidden;text-align: left;background-color: #f0f8ff;}#sk-container-id-2 div.sk-toggleable__content pre {margin: 0.2em;color: black;border-radius: 0.25em;background-color: #f0f8ff;}#sk-container-id-2 input.sk-toggleable__control:checked~div.sk-toggleable__content {max-height: 200px;max-width: 100%;overflow: auto;}#sk-container-id-2 input.sk-toggleable__control:checked~label.sk-toggleable__label-arrow:before {content: \"▾\";}#sk-container-id-2 div.sk-estimator input.sk-toggleable__control:checked~label.sk-toggleable__label {background-color: #d4ebff;}#sk-container-id-2 div.sk-label input.sk-toggleable__control:checked~label.sk-toggleable__label {background-color: #d4ebff;}#sk-container-id-2 input.sk-hidden--visually {border: 0;clip: rect(1px 1px 1px 1px);clip: rect(1px, 1px, 1px, 1px);height: 1px;margin: -1px;overflow: hidden;padding: 0;position: absolute;width: 1px;}#sk-container-id-2 div.sk-estimator {font-family: monospace;background-color: #f0f8ff;border: 1px dotted black;border-radius: 0.25em;box-sizing: border-box;margin-bottom: 0.5em;}#sk-container-id-2 div.sk-estimator:hover {background-color: #d4ebff;}#sk-container-id-2 div.sk-parallel-item::after {content: \"\";width: 100%;border-bottom: 1px solid gray;flex-grow: 1;}#sk-container-id-2 div.sk-label:hover label.sk-toggleable__label {background-color: #d4ebff;}#sk-container-id-2 div.sk-serial::before {content: \"\";position: absolute;border-left: 1px solid gray;box-sizing: border-box;top: 0;bottom: 0;left: 50%;z-index: 0;}#sk-container-id-2 div.sk-serial {display: flex;flex-direction: column;align-items: center;background-color: white;padding-right: 0.2em;padding-left: 0.2em;position: relative;}#sk-container-id-2 div.sk-item {position: relative;z-index: 1;}#sk-container-id-2 div.sk-parallel {display: flex;align-items: stretch;justify-content: center;background-color: white;position: relative;}#sk-container-id-2 div.sk-item::before, #sk-container-id-2 div.sk-parallel-item::before {content: \"\";position: absolute;border-left: 1px solid gray;box-sizing: border-box;top: 0;bottom: 0;left: 50%;z-index: -1;}#sk-container-id-2 div.sk-parallel-item {display: flex;flex-direction: column;z-index: 1;position: relative;background-color: white;}#sk-container-id-2 div.sk-parallel-item:first-child::after {align-self: flex-end;width: 50%;}#sk-container-id-2 div.sk-parallel-item:last-child::after {align-self: flex-start;width: 50%;}#sk-container-id-2 div.sk-parallel-item:only-child::after {width: 0;}#sk-container-id-2 div.sk-dashed-wrapped {border: 1px dashed gray;margin: 0 0.4em 0.5em 0.4em;box-sizing: border-box;padding-bottom: 0.4em;background-color: white;}#sk-container-id-2 div.sk-label label {font-family: monospace;font-weight: bold;display: inline-block;line-height: 1.2em;}#sk-container-id-2 div.sk-label-container {text-align: center;}#sk-container-id-2 div.sk-container {/* jupyter's `normalize.less` sets `[hidden] { display: none; }` but bootstrap.min.css set `[hidden] { display: none !important; }` so we also need the `!important` here to be able to override the default hidden behavior on the sphinx rendered scikit-learn.org. See: https://github.com/scikit-learn/scikit-learn/issues/21755 */display: inline-block !important;position: relative;}#sk-container-id-2 div.sk-text-repr-fallback {display: none;}</style><div id=\"sk-container-id-2\" class=\"sk-top-container\"><div class=\"sk-text-repr-fallback\"><pre>DecisionTreeClassifier()</pre><b>In a Jupyter environment, please rerun this cell to show the HTML representation or trust the notebook. <br />On GitHub, the HTML representation is unable to render, please try loading this page with nbviewer.org.</b></div><div class=\"sk-container\" hidden><div class=\"sk-item\"><div class=\"sk-estimator sk-toggleable\"><input class=\"sk-toggleable__control sk-hidden--visually\" id=\"sk-estimator-id-2\" type=\"checkbox\" checked><label for=\"sk-estimator-id-2\" class=\"sk-toggleable__label sk-toggleable__label-arrow\">DecisionTreeClassifier</label><div class=\"sk-toggleable__content\"><pre>DecisionTreeClassifier()</pre></div></div></div></div></div>"
      ],
      "text/plain": [
       "DecisionTreeClassifier()"
      ]
     },
     "execution_count": 22,
     "metadata": {},
     "output_type": "execute_result"
    }
   ],
   "source": [
    "\n",
    "model1 = DecisionTreeClassifier()\n",
    "model1.fit(X_train,Y_train)"
   ]
  },
  {
   "cell_type": "code",
   "execution_count": 23,
   "id": "be72d206-72c1-4848-89ee-867bb5eef7fc",
   "metadata": {},
   "outputs": [
    {
     "name": "stdout",
     "output_type": "stream",
     "text": [
      "[[ 3  0  0  0  0  0]\n",
      " [ 0  5  0  0  0  1]\n",
      " [ 0  0  3  0  0  0]\n",
      " [ 0  0  0  1  0  0]\n",
      " [ 0  0  0  0 28  0]\n",
      " [ 1  1  0  0  0  5]]\n"
     ]
    }
   ],
   "source": [
    "Y_pred_logistic = model1.predict(X_test)\n",
    "Y_pred_logistic\n",
    "print(confusion_matrix(Y_test,Y_pred_logistic))"
   ]
  },
  {
   "cell_type": "code",
   "execution_count": 24,
   "id": "565b1827-3af4-4a38-908c-6d0e058b3bc1",
   "metadata": {},
   "outputs": [
    {
     "data": {
      "text/plain": [
       "0.9375"
      ]
     },
     "execution_count": 24,
     "metadata": {},
     "output_type": "execute_result"
    }
   ],
   "source": [
    "accuracy_Decision= accuracy_score(Y_test,Y_pred_logistic)\n",
    "accuracy_Decision"
   ]
  },
  {
   "cell_type": "code",
   "execution_count": 25,
   "id": "4f62a52b-0f4a-47d7-bea9-c34acee9b7f3",
   "metadata": {},
   "outputs": [
    {
     "name": "stdout",
     "output_type": "stream",
     "text": [
      "              precision    recall  f1-score   support\n",
      "\n",
      "           A       0.75      1.00      0.86         3\n",
      "           B       0.83      0.83      0.83         6\n",
      "           F       1.00      1.00      1.00         3\n",
      "           K       1.00      1.00      1.00         1\n",
      "           M       1.00      1.00      1.00        28\n",
      "           O       0.83      0.71      0.77         7\n",
      "\n",
      "    accuracy                           0.94        48\n",
      "   macro avg       0.90      0.92      0.91        48\n",
      "weighted avg       0.94      0.94      0.94        48\n",
      "\n"
     ]
    }
   ],
   "source": [
    "print(classification_report(Y_test,Y_pred_logistic))"
   ]
  },
  {
   "cell_type": "code",
   "execution_count": 26,
   "id": "4532583c-cc66-43e7-8837-b34268b34d1a",
   "metadata": {},
   "outputs": [
    {
     "name": "stdout",
     "output_type": "stream",
     "text": [
      "MCC Score: 0.8992268158378083\n"
     ]
    }
   ],
   "source": [
    "mcc1 = matthews_corrcoef(Y_test, Y_pred_logistic)\n",
    "print(\"MCC Score:\", mcc1)"
   ]
  },
  {
   "cell_type": "markdown",
   "id": "6a3829ae-07bd-4524-811b-4832dd2adf6f",
   "metadata": {},
   "source": [
    "**The model accuracy is 92%, which is good, and the MCC score is 0.86, indicating that the model is performing quite better than Knn.**"
   ]
  },
  {
   "cell_type": "markdown",
   "id": "34c7ba66-7b90-446f-b9eb-7e37060a5580",
   "metadata": {},
   "source": [
    "The Decision Tree performs significantly better than k-NN for non-linear datasets as it can capture complex relationships by recursively splitting the feature space, works well with both categorical and numerical data, does not rely on distance metrics (making it robust to feature scaling), efficiently handles high-dimensional data, and while prone to overfitting, this can be controlled using pruning or ensemble methods like Random Forest and Gradient Boosting."
   ]
  },
  {
   "cell_type": "markdown",
   "id": "5ff29c2f-e70e-469e-b35e-8067d746fa2c",
   "metadata": {},
   "source": [
    "# Bagging classifier with Knn (Neighbour - 3)"
   ]
  },
  {
   "cell_type": "code",
   "execution_count": 27,
   "id": "cb114faa-bc9a-4a66-95ce-dd21611857b3",
   "metadata": {},
   "outputs": [
    {
     "name": "stderr",
     "output_type": "stream",
     "text": [
      "C:\\Users\\Aman Yadav\\anaconda3\\Lib\\site-packages\\sklearn\\ensemble\\_base.py:166: FutureWarning: `base_estimator` was renamed to `estimator` in version 1.2 and will be removed in 1.4.\n",
      "  warnings.warn(\n"
     ]
    },
    {
     "data": {
      "text/html": [
       "<style>#sk-container-id-3 {color: black;background-color: white;}#sk-container-id-3 pre{padding: 0;}#sk-container-id-3 div.sk-toggleable {background-color: white;}#sk-container-id-3 label.sk-toggleable__label {cursor: pointer;display: block;width: 100%;margin-bottom: 0;padding: 0.3em;box-sizing: border-box;text-align: center;}#sk-container-id-3 label.sk-toggleable__label-arrow:before {content: \"▸\";float: left;margin-right: 0.25em;color: #696969;}#sk-container-id-3 label.sk-toggleable__label-arrow:hover:before {color: black;}#sk-container-id-3 div.sk-estimator:hover label.sk-toggleable__label-arrow:before {color: black;}#sk-container-id-3 div.sk-toggleable__content {max-height: 0;max-width: 0;overflow: hidden;text-align: left;background-color: #f0f8ff;}#sk-container-id-3 div.sk-toggleable__content pre {margin: 0.2em;color: black;border-radius: 0.25em;background-color: #f0f8ff;}#sk-container-id-3 input.sk-toggleable__control:checked~div.sk-toggleable__content {max-height: 200px;max-width: 100%;overflow: auto;}#sk-container-id-3 input.sk-toggleable__control:checked~label.sk-toggleable__label-arrow:before {content: \"▾\";}#sk-container-id-3 div.sk-estimator input.sk-toggleable__control:checked~label.sk-toggleable__label {background-color: #d4ebff;}#sk-container-id-3 div.sk-label input.sk-toggleable__control:checked~label.sk-toggleable__label {background-color: #d4ebff;}#sk-container-id-3 input.sk-hidden--visually {border: 0;clip: rect(1px 1px 1px 1px);clip: rect(1px, 1px, 1px, 1px);height: 1px;margin: -1px;overflow: hidden;padding: 0;position: absolute;width: 1px;}#sk-container-id-3 div.sk-estimator {font-family: monospace;background-color: #f0f8ff;border: 1px dotted black;border-radius: 0.25em;box-sizing: border-box;margin-bottom: 0.5em;}#sk-container-id-3 div.sk-estimator:hover {background-color: #d4ebff;}#sk-container-id-3 div.sk-parallel-item::after {content: \"\";width: 100%;border-bottom: 1px solid gray;flex-grow: 1;}#sk-container-id-3 div.sk-label:hover label.sk-toggleable__label {background-color: #d4ebff;}#sk-container-id-3 div.sk-serial::before {content: \"\";position: absolute;border-left: 1px solid gray;box-sizing: border-box;top: 0;bottom: 0;left: 50%;z-index: 0;}#sk-container-id-3 div.sk-serial {display: flex;flex-direction: column;align-items: center;background-color: white;padding-right: 0.2em;padding-left: 0.2em;position: relative;}#sk-container-id-3 div.sk-item {position: relative;z-index: 1;}#sk-container-id-3 div.sk-parallel {display: flex;align-items: stretch;justify-content: center;background-color: white;position: relative;}#sk-container-id-3 div.sk-item::before, #sk-container-id-3 div.sk-parallel-item::before {content: \"\";position: absolute;border-left: 1px solid gray;box-sizing: border-box;top: 0;bottom: 0;left: 50%;z-index: -1;}#sk-container-id-3 div.sk-parallel-item {display: flex;flex-direction: column;z-index: 1;position: relative;background-color: white;}#sk-container-id-3 div.sk-parallel-item:first-child::after {align-self: flex-end;width: 50%;}#sk-container-id-3 div.sk-parallel-item:last-child::after {align-self: flex-start;width: 50%;}#sk-container-id-3 div.sk-parallel-item:only-child::after {width: 0;}#sk-container-id-3 div.sk-dashed-wrapped {border: 1px dashed gray;margin: 0 0.4em 0.5em 0.4em;box-sizing: border-box;padding-bottom: 0.4em;background-color: white;}#sk-container-id-3 div.sk-label label {font-family: monospace;font-weight: bold;display: inline-block;line-height: 1.2em;}#sk-container-id-3 div.sk-label-container {text-align: center;}#sk-container-id-3 div.sk-container {/* jupyter's `normalize.less` sets `[hidden] { display: none; }` but bootstrap.min.css set `[hidden] { display: none !important; }` so we also need the `!important` here to be able to override the default hidden behavior on the sphinx rendered scikit-learn.org. See: https://github.com/scikit-learn/scikit-learn/issues/21755 */display: inline-block !important;position: relative;}#sk-container-id-3 div.sk-text-repr-fallback {display: none;}</style><div id=\"sk-container-id-3\" class=\"sk-top-container\"><div class=\"sk-text-repr-fallback\"><pre>BaggingClassifier(base_estimator=KNeighborsClassifier(n_neighbors=3),\n",
       "                  max_samples=0.8, random_state=42)</pre><b>In a Jupyter environment, please rerun this cell to show the HTML representation or trust the notebook. <br />On GitHub, the HTML representation is unable to render, please try loading this page with nbviewer.org.</b></div><div class=\"sk-container\" hidden><div class=\"sk-item sk-dashed-wrapped\"><div class=\"sk-label-container\"><div class=\"sk-label sk-toggleable\"><input class=\"sk-toggleable__control sk-hidden--visually\" id=\"sk-estimator-id-3\" type=\"checkbox\" ><label for=\"sk-estimator-id-3\" class=\"sk-toggleable__label sk-toggleable__label-arrow\">BaggingClassifier</label><div class=\"sk-toggleable__content\"><pre>BaggingClassifier(base_estimator=KNeighborsClassifier(n_neighbors=3),\n",
       "                  max_samples=0.8, random_state=42)</pre></div></div></div><div class=\"sk-parallel\"><div class=\"sk-parallel-item\"><div class=\"sk-item\"><div class=\"sk-label-container\"><div class=\"sk-label sk-toggleable\"><input class=\"sk-toggleable__control sk-hidden--visually\" id=\"sk-estimator-id-4\" type=\"checkbox\" ><label for=\"sk-estimator-id-4\" class=\"sk-toggleable__label sk-toggleable__label-arrow\">base_estimator: KNeighborsClassifier</label><div class=\"sk-toggleable__content\"><pre>KNeighborsClassifier(n_neighbors=3)</pre></div></div></div><div class=\"sk-serial\"><div class=\"sk-item\"><div class=\"sk-estimator sk-toggleable\"><input class=\"sk-toggleable__control sk-hidden--visually\" id=\"sk-estimator-id-5\" type=\"checkbox\" ><label for=\"sk-estimator-id-5\" class=\"sk-toggleable__label sk-toggleable__label-arrow\">KNeighborsClassifier</label><div class=\"sk-toggleable__content\"><pre>KNeighborsClassifier(n_neighbors=3)</pre></div></div></div></div></div></div></div></div></div></div>"
      ],
      "text/plain": [
       "BaggingClassifier(base_estimator=KNeighborsClassifier(n_neighbors=3),\n",
       "                  max_samples=0.8, random_state=42)"
      ]
     },
     "execution_count": 27,
     "metadata": {},
     "output_type": "execute_result"
    }
   ],
   "source": [
    "from sklearn.ensemble import BaggingClassifier\n",
    "Bagging_Knn = BaggingClassifier(base_estimator= KNeighborsClassifier(n_neighbors = 3), \n",
    "                                n_estimators=10,\n",
    "                                max_samples=0.8, \n",
    "                                bootstrap=True,  \n",
    "                                random_state=42)\n",
    "\n",
    "Bagging_Knn.fit(X_train,Y_train)                                "
   ]
  },
  {
   "cell_type": "code",
   "execution_count": 28,
   "id": "a01e1d43-da41-4da8-b999-47bd04670874",
   "metadata": {},
   "outputs": [
    {
     "data": {
      "text/plain": [
       "array(['M', 'B', 'B', 'F', 'O', 'M', 'M', 'M', 'B', 'M', 'F', 'M', 'B',\n",
       "       'M', 'M', 'M', 'M', 'B', 'M', 'M', 'O', 'A', 'M', 'M', 'M', 'M',\n",
       "       'M', 'B', 'M', 'M', 'M', 'M', 'M', 'M', 'M', 'B', 'M', 'M', 'M',\n",
       "       'O', 'B', 'O', 'A', 'M', 'M', 'F', 'M', 'O'], dtype=object)"
      ]
     },
     "execution_count": 28,
     "metadata": {},
     "output_type": "execute_result"
    }
   ],
   "source": [
    "Y_pred_Bagging = Bagging_Knn .predict(X_test)\n",
    "Y_pred_Bagging"
   ]
  },
  {
   "cell_type": "code",
   "execution_count": 29,
   "id": "94dcd6ed-bc90-4f7c-93d4-925ebbe1631f",
   "metadata": {},
   "outputs": [
    {
     "data": {
      "text/plain": [
       "0.8541666666666666"
      ]
     },
     "execution_count": 29,
     "metadata": {},
     "output_type": "execute_result"
    }
   ],
   "source": [
    "from sklearn.metrics import accuracy_score\n",
    "accuracy_Bagging_Knn = accuracy_score(Y_test, Y_pred_Bagging)\n",
    "accuracy_Bagging_Knn"
   ]
  },
  {
   "cell_type": "code",
   "execution_count": 30,
   "id": "79e3f47a-8ce2-41fb-a1f0-2f017f78809b",
   "metadata": {},
   "outputs": [
    {
     "name": "stdout",
     "output_type": "stream",
     "text": [
      "MCC Score: 0.7585777600249436\n"
     ]
    }
   ],
   "source": [
    "mcc2 = matthews_corrcoef(Y_test, Y_pred_Bagging)\n",
    "print(\"MCC Score:\", mcc2)"
   ]
  },
  {
   "cell_type": "markdown",
   "id": "15228ccc-f013-4596-a157-a2c173cb80ea",
   "metadata": {},
   "source": [
    "**The accuracy is still 85% which means the model didnt changed after applying it with bagging**  "
   ]
  },
  {
   "cell_type": "markdown",
   "id": "d1dfe8c9-3a29-4bb3-bcc8-2e0eb5ef3477",
   "metadata": {},
   "source": [
    "# Bagging classifier with Random Forest"
   ]
  },
  {
   "cell_type": "code",
   "execution_count": 31,
   "id": "b7486238-b0c7-4fb8-a22a-2f2087c9e912",
   "metadata": {},
   "outputs": [
    {
     "data": {
      "text/html": [
       "<style>#sk-container-id-4 {color: black;background-color: white;}#sk-container-id-4 pre{padding: 0;}#sk-container-id-4 div.sk-toggleable {background-color: white;}#sk-container-id-4 label.sk-toggleable__label {cursor: pointer;display: block;width: 100%;margin-bottom: 0;padding: 0.3em;box-sizing: border-box;text-align: center;}#sk-container-id-4 label.sk-toggleable__label-arrow:before {content: \"▸\";float: left;margin-right: 0.25em;color: #696969;}#sk-container-id-4 label.sk-toggleable__label-arrow:hover:before {color: black;}#sk-container-id-4 div.sk-estimator:hover label.sk-toggleable__label-arrow:before {color: black;}#sk-container-id-4 div.sk-toggleable__content {max-height: 0;max-width: 0;overflow: hidden;text-align: left;background-color: #f0f8ff;}#sk-container-id-4 div.sk-toggleable__content pre {margin: 0.2em;color: black;border-radius: 0.25em;background-color: #f0f8ff;}#sk-container-id-4 input.sk-toggleable__control:checked~div.sk-toggleable__content {max-height: 200px;max-width: 100%;overflow: auto;}#sk-container-id-4 input.sk-toggleable__control:checked~label.sk-toggleable__label-arrow:before {content: \"▾\";}#sk-container-id-4 div.sk-estimator input.sk-toggleable__control:checked~label.sk-toggleable__label {background-color: #d4ebff;}#sk-container-id-4 div.sk-label input.sk-toggleable__control:checked~label.sk-toggleable__label {background-color: #d4ebff;}#sk-container-id-4 input.sk-hidden--visually {border: 0;clip: rect(1px 1px 1px 1px);clip: rect(1px, 1px, 1px, 1px);height: 1px;margin: -1px;overflow: hidden;padding: 0;position: absolute;width: 1px;}#sk-container-id-4 div.sk-estimator {font-family: monospace;background-color: #f0f8ff;border: 1px dotted black;border-radius: 0.25em;box-sizing: border-box;margin-bottom: 0.5em;}#sk-container-id-4 div.sk-estimator:hover {background-color: #d4ebff;}#sk-container-id-4 div.sk-parallel-item::after {content: \"\";width: 100%;border-bottom: 1px solid gray;flex-grow: 1;}#sk-container-id-4 div.sk-label:hover label.sk-toggleable__label {background-color: #d4ebff;}#sk-container-id-4 div.sk-serial::before {content: \"\";position: absolute;border-left: 1px solid gray;box-sizing: border-box;top: 0;bottom: 0;left: 50%;z-index: 0;}#sk-container-id-4 div.sk-serial {display: flex;flex-direction: column;align-items: center;background-color: white;padding-right: 0.2em;padding-left: 0.2em;position: relative;}#sk-container-id-4 div.sk-item {position: relative;z-index: 1;}#sk-container-id-4 div.sk-parallel {display: flex;align-items: stretch;justify-content: center;background-color: white;position: relative;}#sk-container-id-4 div.sk-item::before, #sk-container-id-4 div.sk-parallel-item::before {content: \"\";position: absolute;border-left: 1px solid gray;box-sizing: border-box;top: 0;bottom: 0;left: 50%;z-index: -1;}#sk-container-id-4 div.sk-parallel-item {display: flex;flex-direction: column;z-index: 1;position: relative;background-color: white;}#sk-container-id-4 div.sk-parallel-item:first-child::after {align-self: flex-end;width: 50%;}#sk-container-id-4 div.sk-parallel-item:last-child::after {align-self: flex-start;width: 50%;}#sk-container-id-4 div.sk-parallel-item:only-child::after {width: 0;}#sk-container-id-4 div.sk-dashed-wrapped {border: 1px dashed gray;margin: 0 0.4em 0.5em 0.4em;box-sizing: border-box;padding-bottom: 0.4em;background-color: white;}#sk-container-id-4 div.sk-label label {font-family: monospace;font-weight: bold;display: inline-block;line-height: 1.2em;}#sk-container-id-4 div.sk-label-container {text-align: center;}#sk-container-id-4 div.sk-container {/* jupyter's `normalize.less` sets `[hidden] { display: none; }` but bootstrap.min.css set `[hidden] { display: none !important; }` so we also need the `!important` here to be able to override the default hidden behavior on the sphinx rendered scikit-learn.org. See: https://github.com/scikit-learn/scikit-learn/issues/21755 */display: inline-block !important;position: relative;}#sk-container-id-4 div.sk-text-repr-fallback {display: none;}</style><div id=\"sk-container-id-4\" class=\"sk-top-container\"><div class=\"sk-text-repr-fallback\"><pre>BaggingClassifier(estimator=RandomForestClassifier(), max_samples=0.8,\n",
       "                  random_state=42)</pre><b>In a Jupyter environment, please rerun this cell to show the HTML representation or trust the notebook. <br />On GitHub, the HTML representation is unable to render, please try loading this page with nbviewer.org.</b></div><div class=\"sk-container\" hidden><div class=\"sk-item sk-dashed-wrapped\"><div class=\"sk-label-container\"><div class=\"sk-label sk-toggleable\"><input class=\"sk-toggleable__control sk-hidden--visually\" id=\"sk-estimator-id-6\" type=\"checkbox\" ><label for=\"sk-estimator-id-6\" class=\"sk-toggleable__label sk-toggleable__label-arrow\">BaggingClassifier</label><div class=\"sk-toggleable__content\"><pre>BaggingClassifier(estimator=RandomForestClassifier(), max_samples=0.8,\n",
       "                  random_state=42)</pre></div></div></div><div class=\"sk-parallel\"><div class=\"sk-parallel-item\"><div class=\"sk-item\"><div class=\"sk-label-container\"><div class=\"sk-label sk-toggleable\"><input class=\"sk-toggleable__control sk-hidden--visually\" id=\"sk-estimator-id-7\" type=\"checkbox\" ><label for=\"sk-estimator-id-7\" class=\"sk-toggleable__label sk-toggleable__label-arrow\">estimator: RandomForestClassifier</label><div class=\"sk-toggleable__content\"><pre>RandomForestClassifier()</pre></div></div></div><div class=\"sk-serial\"><div class=\"sk-item\"><div class=\"sk-estimator sk-toggleable\"><input class=\"sk-toggleable__control sk-hidden--visually\" id=\"sk-estimator-id-8\" type=\"checkbox\" ><label for=\"sk-estimator-id-8\" class=\"sk-toggleable__label sk-toggleable__label-arrow\">RandomForestClassifier</label><div class=\"sk-toggleable__content\"><pre>RandomForestClassifier()</pre></div></div></div></div></div></div></div></div></div></div>"
      ],
      "text/plain": [
       "BaggingClassifier(estimator=RandomForestClassifier(), max_samples=0.8,\n",
       "                  random_state=42)"
      ]
     },
     "execution_count": 31,
     "metadata": {},
     "output_type": "execute_result"
    }
   ],
   "source": [
    "\n",
    "Bagging_Logistic = BaggingClassifier(estimator= RandomForestClassifier(), \n",
    "                                n_estimators=10,\n",
    "                                max_samples=0.8, \n",
    "                                bootstrap=True,  \n",
    "                                random_state=42)\n",
    "\n",
    "Bagging_Logistic.fit(X_train,Y_train)   "
   ]
  },
  {
   "cell_type": "code",
   "execution_count": 34,
   "id": "dfa4409c-59cd-4dda-b1c3-b9e13ec94dc5",
   "metadata": {},
   "outputs": [
    {
     "data": {
      "text/plain": [
       "array(['M', 'B', 'B', 'F', 'O', 'O', 'M', 'M', 'B', 'O', 'F', 'M', 'F',\n",
       "       'M', 'M', 'M', 'M', 'B', 'M', 'M', 'O', 'A', 'M', 'M', 'M', 'M',\n",
       "       'M', 'O', 'M', 'M', 'M', 'M', 'M', 'M', 'M', 'B', 'M', 'M', 'M',\n",
       "       'O', 'O', 'O', 'A', 'M', 'M', 'F', 'M', 'O'], dtype=object)"
      ]
     },
     "execution_count": 34,
     "metadata": {},
     "output_type": "execute_result"
    }
   ],
   "source": [
    "Bagging_Logistic.fit(X_test,Y_test)\n",
    "Y_Bagging_RandomForest = Bagging_Logistic.predict(X_test)\n",
    "Y_Bagging_RandomForest"
   ]
  },
  {
   "cell_type": "code",
   "execution_count": 36,
   "id": "becba662-c5f9-473b-a68c-690a28bdf14a",
   "metadata": {},
   "outputs": [
    {
     "data": {
      "text/plain": [
       "0.9375"
      ]
     },
     "execution_count": 36,
     "metadata": {},
     "output_type": "execute_result"
    }
   ],
   "source": [
    "accuracy_Bagging_RandomForest = accuracy_score(Y_test, Y_Bagging_RandomForest)\n",
    "accuracy_Bagging_RandomForest"
   ]
  },
  {
   "cell_type": "code",
   "execution_count": 38,
   "id": "6e8d6d73-f2af-4005-af32-cbe6923e32d0",
   "metadata": {},
   "outputs": [
    {
     "name": "stdout",
     "output_type": "stream",
     "text": [
      "MCC Score: 0.9003834672988161\n"
     ]
    }
   ],
   "source": [
    "mcc3 = matthews_corrcoef(Y_test, Y_Bagging_RandomForest)\n",
    "print(\"MCC Score:\", mcc3)"
   ]
  },
  {
   "cell_type": "markdown",
   "id": "5e20be52-9f5e-4192-8d53-49cedd7e374d",
   "metadata": {},
   "source": [
    "**Bagging improved the model slightly by few percents but its still beter than models without bagging**"
   ]
  },
  {
   "cell_type": "code",
   "execution_count": 39,
   "id": "cfa28fbf-593a-471f-8a5c-d9a2ba0beef2",
   "metadata": {},
   "outputs": [
    {
     "name": "stdout",
     "output_type": "stream",
     "text": [
      "[0.8541666666666666, 0.8541666666666666, 0.9375, 0.9375]\n"
     ]
    }
   ],
   "source": [
    "accuraccy_lists = [accuracy_knn,accuracy_Bagging_Knn,accuracy_Decision, accuracy_Bagging_RandomForest]\n",
    "accuraccy_Models = [\"accuracy_knn\",\"accuracy_Bagging_Knn\",\"accuracy_Decision\", \"accuracy_Bagging_RandomForest\"]\n",
    "print(accuraccy_lists)\n"
   ]
  },
  {
   "cell_type": "code",
   "execution_count": 54,
   "id": "14b240d2-e6f1-493c-b590-002829beade9",
   "metadata": {},
   "outputs": [
    {
     "data": {
      "text/plain": [
       "Text(0, 0.5, 'Accuracy ')"
      ]
     },
     "execution_count": 54,
     "metadata": {},
     "output_type": "execute_result"
    },
    {
     "data": {
      "image/png": "[encoded data removed]",
      "text/plain": [
       "<Figure size 640x480 with 1 Axes>"
      ]
     },
     "metadata": {},
     "output_type": "display_data"
    }
   ],
   "source": [
    "plt.bar(accuraccy_Models , accuraccy_lists,label=\"Model Accuracy\")\n",
    "plt.xticks(rotation=45)\n",
    "plt.grid()\n",
    "\n",
    "plt.xlabel(\"Models\")\n",
    "plt.ylabel(\"Accuracy \")"
   ]
  },
  {
   "cell_type": "markdown",
   "id": "2be174ee-fd74-4036-be84-fdc9565bd807",
   "metadata": {},
   "source": [
    "**In conclusion, this analysis explored the relationship between various features of stars and how they can be used to categorize stars into distinct groups. By examining key features such as mass, luminosity, temperature, and radius, we were able to understand how these characteristics contribute to the classification of stars. Throughout the process, training different machine learning models allowed me to observe that not every classification model performs equally well on the dataset. Each model has its strengths and weaknesses, and finding the best model for a given problem often requires experimentation and fine-tuning—highlighting the importance of trial and error in machine learning.**\n",
    "\n",
    "Ultimately, after comparing the performance of various models, it was found that the Random Forest model outperformed all others in terms of accuracy and reliability. This reinforces the fact that ensemble models, like Random Forest, are often more robust and capable of handling the complexity of real-world datasets better than individual models. This experience underscored the significance of model evaluation and the iterative nature of machine learning, where continuous improvements are made based on model performance."
   ]
  },
  {
   "cell_type": "markdown",
   "id": "de8e3a2a-0057-4204-b520-71e6ef81097a",
   "metadata": {},
   "source": [
    "# END"
   ]
  },
  {
   "cell_type": "code",
   "execution_count": null,
   "id": "6dd711e5-4a05-4bb0-ba54-9b0f1b83bd1d",
   "metadata": {},
   "outputs": [],
   "source": []
  },
  {
   "cell_type": "code",
   "execution_count": null,
   "id": "a69ab295-6995-4940-b720-c3803b6c9f4f",
   "metadata": {},
   "outputs": [],
   "source": []
  }
 ],
 "metadata": {
  "kernelspec": {
   "display_name": "Python 3 (ipykernel)",
   "language": "python",
   "name": "python3"
  },
  "language_info": {
   "codemirror_mode": {
    "name": "ipython",
    "version": 3
   },
   "file_extension": ".py",
   "mimetype": "text/x-python",
   "name": "python",
   "nbconvert_exporter": "python",
   "pygments_lexer": "ipython3",
   "version": "3.11.7"
  }
 },
 "nbformat": 4,
 "nbformat_minor": 5
}
